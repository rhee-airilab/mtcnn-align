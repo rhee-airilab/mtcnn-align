{
 "cells": [
  {
   "cell_type": "code",
   "execution_count": 1,
   "metadata": {},
   "outputs": [],
   "source": [
    "from __future__ import absolute_import\n",
    "from __future__ import division\n",
    "from __future__ import print_function\n",
    "from six import string_types, iteritems\n"
   ]
  },
  {
   "cell_type": "code",
   "execution_count": 2,
   "metadata": {},
   "outputs": [],
   "source": [
    "import os"
   ]
  },
  {
   "cell_type": "code",
   "execution_count": 3,
   "metadata": {},
   "outputs": [
    {
     "name": "stderr",
     "output_type": "stream",
     "text": [
      "/opt/conda/envs/tfjs/lib/python2.7/site-packages/h5py/__init__.py:36: FutureWarning: Conversion of the second argument of issubdtype from `float` to `np.floating` is deprecated. In future, it will be treated as `np.float64 == np.dtype(float).type`.\n",
      "  from ._conv import register_converters as _register_converters\n"
     ]
    }
   ],
   "source": [
    "import numpy as np\n",
    "import tensorflow as tf\n"
   ]
  },
  {
   "cell_type": "code",
   "execution_count": 4,
   "metadata": {},
   "outputs": [],
   "source": [
    "import numpy as np\n"
   ]
  },
  {
   "cell_type": "code",
   "execution_count": 5,
   "metadata": {},
   "outputs": [],
   "source": [
    "import detect_face"
   ]
  },
  {
   "cell_type": "code",
   "execution_count": 6,
   "metadata": {},
   "outputs": [],
   "source": [
    "gpu_memory_fraction = 0.25\n",
    "\n",
    "gpu_options = tf.GPUOptions(per_process_gpu_memory_fraction=gpu_memory_fraction)\n",
    "sess = tf.Session(config=tf.ConfigProto(gpu_options=gpu_options, log_device_placement=False))\n",
    "pnet, rnet, onet = detect_face.create_mtcnn(sess, None)\n"
   ]
  },
  {
   "cell_type": "code",
   "execution_count": 7,
   "metadata": {},
   "outputs": [],
   "source": [
    "save_dir = './save'"
   ]
  },
  {
   "cell_type": "code",
   "execution_count": 8,
   "metadata": {},
   "outputs": [],
   "source": [
    "!mkdir -p {save_dir}"
   ]
  },
  {
   "cell_type": "code",
   "execution_count": 9,
   "metadata": {},
   "outputs": [],
   "source": [
    "saver = tf.train.Saver()"
   ]
  },
  {
   "cell_type": "code",
   "execution_count": 10,
   "metadata": {},
   "outputs": [],
   "source": [
    "saver.save(sess, './save/tf_mtcnn', global_step=0)\n",
    "saver.export_meta_graph('./save/tf_mtcnn_graph');\n",
    "writer = tf.summary.FileWriter('./save')\n",
    "writer.add_graph(tf.get_default_graph())\n",
    "writer.flush()"
   ]
  },
  {
   "cell_type": "markdown",
   "metadata": {},
   "source": [
    "see https://kpzhang93.github.io/MTCNN_face_detection_alignment/paper/spl.pdf for MTCNN P-/R-/O-net structure"
   ]
  },
  {
   "cell_type": "markdown",
   "metadata": {},
   "source": [
    "see https://github.com/tensorflow/tensorflow/blob/master/tensorflow/python/saved_model/README.md for SaveModel usage\n"
   ]
  },
  {
   "cell_type": "markdown",
   "metadata": {},
   "source": [
    "see https://github.com/tensorflow/tensorflow/blob/master/tensorflow/core/protobuf/meta_graph.proto for SignatureDef\n",
    "\n",
    "\n",
    "```\n",
    "message SignatureDef {\n",
    "  // Named input parameters.\n",
    "  map<string, TensorInfo> inputs = 1;\n",
    "  // Named output parameters.\n",
    "  map<string, TensorInfo> outputs = 2;\n",
    "  // Extensible method_name information enabling third-party users to mark a\n",
    "  // SignatureDef as supporting a particular method. This enables producers and\n",
    "  // consumers of SignatureDefs, e.g. a model definition library and a serving\n",
    "  // library to have a clear hand-off regarding the semantics of a computation.\n",
    "  //\n",
    "  // Note that multiple SignatureDefs in a single MetaGraphDef may have the same\n",
    "  // method_name. This is commonly used to support multi-headed computation,\n",
    "  // where a single graph computation may return multiple results.\n",
    "  string method_name = 3;\n",
    "}\n",
    "```"
   ]
  },
  {
   "cell_type": "code",
   "execution_count": 11,
   "metadata": {},
   "outputs": [],
   "source": [
    "export_dir='./saved_model'"
   ]
  },
  {
   "cell_type": "code",
   "execution_count": 12,
   "metadata": {},
   "outputs": [],
   "source": [
    "!rm -fr ./saved_model"
   ]
  },
  {
   "cell_type": "code",
   "execution_count": 13,
   "metadata": {},
   "outputs": [],
   "source": [
    "builder = tf.saved_model.builder.SavedModelBuilder(export_dir)"
   ]
  },
  {
   "cell_type": "code",
   "execution_count": 14,
   "metadata": {},
   "outputs": [],
   "source": [
    "g = tf.get_default_graph()"
   ]
  },
  {
   "cell_type": "code",
   "execution_count": 15,
   "metadata": {},
   "outputs": [],
   "source": [
    "pnet_input_ = g.get_tensor_by_name('pnet/input:0')\n",
    "pnet_output_1_ = g.get_tensor_by_name('pnet/conv4-2/BiasAdd:0')\n",
    "pnet_output_2_ = g.get_tensor_by_name('pnet/prob1:0')\n",
    "pnet_input = tf.saved_model.utils.build_tensor_info(pnet_input_)\n",
    "pnet_output_1 = tf.saved_model.utils.build_tensor_info(pnet_output_1_)\n",
    "pnet_output_2 = tf.saved_model.utils.build_tensor_info(pnet_output_2_)"
   ]
  },
  {
   "cell_type": "code",
   "execution_count": 16,
   "metadata": {},
   "outputs": [],
   "source": [
    "pnet_signature = tf.saved_model.signature_def_utils.build_signature_def(\n",
    "    inputs={\n",
    "        tf.saved_model.signature_constants.CLASSIFY_INPUTS: pnet_input\n",
    "    },\n",
    "    outputs={\n",
    "        tf.saved_model.signature_constants.CLASSIFY_OUTPUT_CLASSES: pnet_output_1,\n",
    "        tf.saved_model.signature_constants.CLASSIFY_OUTPUT_SCORES: pnet_output_2\n",
    "    },\n",
    "    method_name='mtcnn_pnet') # tf.saved_model.signature_constants.CLASSIFY_METHOD_NAME)"
   ]
  },
  {
   "cell_type": "code",
   "execution_count": 17,
   "metadata": {},
   "outputs": [],
   "source": [
    "rnet_input_ = g.get_tensor_by_name('rnet/input:0')\n",
    "rnet_output_1_ = g.get_tensor_by_name('rnet/conv5-2/conv5-2:0')\n",
    "rnet_output_2_ = g.get_tensor_by_name('rnet/prob1:0')\n",
    "rnet_input = tf.saved_model.utils.build_tensor_info(rnet_input_)\n",
    "rnet_output_1 = tf.saved_model.utils.build_tensor_info(rnet_output_1_)\n",
    "rnet_output_2 = tf.saved_model.utils.build_tensor_info(rnet_output_2_)"
   ]
  },
  {
   "cell_type": "code",
   "execution_count": 18,
   "metadata": {},
   "outputs": [],
   "source": [
    "rnet_signature = tf.saved_model.signature_def_utils.build_signature_def(\n",
    "    inputs={\n",
    "        tf.saved_model.signature_constants.CLASSIFY_INPUTS: rnet_input\n",
    "    },\n",
    "    outputs={\n",
    "        tf.saved_model.signature_constants.CLASSIFY_OUTPUT_CLASSES: rnet_output_1,\n",
    "        tf.saved_model.signature_constants.CLASSIFY_OUTPUT_SCORES: rnet_output_2\n",
    "    },\n",
    "    method_name='mtcnn_rnet') # tf.saved_model.signature_constants.CLASSIFY_METHOD_NAME)"
   ]
  },
  {
   "cell_type": "code",
   "execution_count": 19,
   "metadata": {},
   "outputs": [],
   "source": [
    "onet_input_ = g.get_tensor_by_name('onet/input:0')\n",
    "onet_output_1_ = g.get_tensor_by_name('onet/conv6-2/conv6-2:0')\n",
    "onet_output_2_ = g.get_tensor_by_name('onet/conv6-3/conv6-3:0')\n",
    "onet_output_3_ = g.get_tensor_by_name('onet/prob1:0')\n",
    "onet_input = tf.saved_model.utils.build_tensor_info(onet_input_)\n",
    "onet_output_1 = tf.saved_model.utils.build_tensor_info(onet_output_1_)\n",
    "onet_output_2 = tf.saved_model.utils.build_tensor_info(onet_output_2_)\n",
    "onet_output_3 = tf.saved_model.utils.build_tensor_info(onet_output_3_)"
   ]
  },
  {
   "cell_type": "code",
   "execution_count": 20,
   "metadata": {},
   "outputs": [],
   "source": [
    "onet_1_signature = tf.saved_model.signature_def_utils.build_signature_def(\n",
    "    inputs={\n",
    "        tf.saved_model.signature_constants.CLASSIFY_INPUTS: onet_input\n",
    "    },\n",
    "    outputs={\n",
    "        tf.saved_model.signature_constants.CLASSIFY_OUTPUT_CLASSES: onet_output_1,\n",
    "        tf.saved_model.signature_constants.CLASSIFY_OUTPUT_SCORES: onet_output_3\n",
    "    },\n",
    "    method_name='mtcnn_onet_1') # tf.saved_model.signature_constants.CLASSIFY_METHOD_NAME)"
   ]
  },
  {
   "cell_type": "code",
   "execution_count": 21,
   "metadata": {},
   "outputs": [],
   "source": [
    "onet_2_signature = tf.saved_model.signature_def_utils.build_signature_def(\n",
    "    inputs={\n",
    "        tf.saved_model.signature_constants.CLASSIFY_INPUTS: onet_input\n",
    "    },\n",
    "    outputs={\n",
    "        tf.saved_model.signature_constants.CLASSIFY_OUTPUT_CLASSES: onet_output_2,\n",
    "        tf.saved_model.signature_constants.CLASSIFY_OUTPUT_SCORES: onet_output_3\n",
    "    },\n",
    "    method_name='mtcnn_onet_2') # tf.saved_model.signature_constants.CLASSIFY_METHOD_NAME)"
   ]
  },
  {
   "cell_type": "code",
   "execution_count": 22,
   "metadata": {},
   "outputs": [
    {
     "data": {
      "text/plain": [
       "\u001b[0;31mSignature:\u001b[0m \u001b[0mbuilder\u001b[0m\u001b[0;34m.\u001b[0m\u001b[0madd_meta_graph_and_variables\u001b[0m\u001b[0;34m(\u001b[0m\u001b[0msess\u001b[0m\u001b[0;34m,\u001b[0m \u001b[0mtags\u001b[0m\u001b[0;34m,\u001b[0m \u001b[0msignature_def_map\u001b[0m\u001b[0;34m=\u001b[0m\u001b[0mNone\u001b[0m\u001b[0;34m,\u001b[0m \u001b[0massets_collection\u001b[0m\u001b[0;34m=\u001b[0m\u001b[0mNone\u001b[0m\u001b[0;34m,\u001b[0m \u001b[0mlegacy_init_op\u001b[0m\u001b[0;34m=\u001b[0m\u001b[0mNone\u001b[0m\u001b[0;34m,\u001b[0m \u001b[0mclear_devices\u001b[0m\u001b[0;34m=\u001b[0m\u001b[0mFalse\u001b[0m\u001b[0;34m,\u001b[0m \u001b[0mmain_op\u001b[0m\u001b[0;34m=\u001b[0m\u001b[0mNone\u001b[0m\u001b[0;34m,\u001b[0m \u001b[0mstrip_default_attrs\u001b[0m\u001b[0;34m=\u001b[0m\u001b[0mFalse\u001b[0m\u001b[0;34m)\u001b[0m\u001b[0;34m\u001b[0m\u001b[0m\n",
       "\u001b[0;31mDocstring:\u001b[0m\n",
       "Adds the current meta graph to the SavedModel and saves variables.\n",
       "\n",
       "Creates a Saver to save the variables from the provided session. Exports the\n",
       "corresponding meta graph def. This function assumes that the variables to be\n",
       "saved have been initialized. For a given `SavedModelBuilder`, this API must\n",
       "be called exactly once and for the first meta graph to save. For subsequent\n",
       "meta graph defs to be added, the `add_meta_graph()` API must be used.\n",
       "\n",
       "Args:\n",
       "  sess: The TensorFlow session from which to save the meta graph and\n",
       "    variables.\n",
       "  tags: The set of tags with which to save the meta graph.\n",
       "  signature_def_map: The map of signature def map to add to the meta graph\n",
       "    def.\n",
       "  assets_collection: Assets collection to be saved with SavedModel.\n",
       "  legacy_init_op: Legacy support for op or group of ops to execute after the\n",
       "      restore op upon a load.\n",
       "  clear_devices: Set to true if the device info on the default graph should\n",
       "      be cleared.\n",
       "  main_op: Op or group of ops to execute when the graph is loaded. Note\n",
       "      that when the main_op is specified it is run after the restore op at\n",
       "      load-time.\n",
       "  strip_default_attrs: Boolean. If `True`, default-valued attributes will be\n",
       "    removed from the NodeDefs. For a detailed guide, see\n",
       "    [Stripping Default-Valued Attributes](https://github.com/tensorflow/tensorflow/blob/master/tensorflow/python/saved_model/README.md#stripping-default-valued-attributes).\n",
       "\u001b[0;31mFile:\u001b[0m      /opt/conda/envs/tfjs/lib/python2.7/site-packages/tensorflow/python/saved_model/builder_impl.py\n",
       "\u001b[0;31mType:\u001b[0m      instancemethod\n"
      ]
     },
     "metadata": {},
     "output_type": "display_data"
    }
   ],
   "source": [
    "?builder.add_meta_graph_and_variables"
   ]
  },
  {
   "cell_type": "code",
   "execution_count": 23,
   "metadata": {},
   "outputs": [
    {
     "name": "stdout",
     "output_type": "stream",
     "text": [
      "INFO:tensorflow:No assets to save.\n",
      "INFO:tensorflow:No assets to write.\n",
      "INFO:tensorflow:SavedModel written to: ./saved_model/saved_model.pb\n"
     ]
    },
    {
     "data": {
      "text/plain": [
       "'./saved_model/saved_model.pb'"
      ]
     },
     "execution_count": 23,
     "metadata": {},
     "output_type": "execute_result"
    }
   ],
   "source": [
    "builder.add_meta_graph_and_variables(sess,[tf.saved_model.tag_constants.SERVING],\n",
    "                                    signature_def_map = {\n",
    "                                        \"mtcnn_pnet\": pnet_signature,\n",
    "                                        \"mtcnn_rnet\": rnet_signature,\n",
    "                                        \"mtcnn_onet_1\": onet_1_signature,\n",
    "                                        \"mtcnn_onet_2\": onet_2_signature,\n",
    "                                    })\n",
    "builder.save()"
   ]
  },
  {
   "cell_type": "code",
   "execution_count": null,
   "metadata": {},
   "outputs": [],
   "source": []
  },
  {
   "cell_type": "code",
   "execution_count": null,
   "metadata": {},
   "outputs": [],
   "source": []
  },
  {
   "cell_type": "code",
   "execution_count": 26,
   "metadata": {},
   "outputs": [
    {
     "name": "stdout",
     "output_type": "stream",
     "text": [
      "Converted 50 variables to const ops.\n",
      "Writing weight file ./web_model/tensorflowjs_model.pb...\n"
     ]
    },
    {
     "name": "stderr",
     "output_type": "stream",
     "text": [
      "/opt/conda/envs/tfjs/lib/python2.7/site-packages/h5py/__init__.py:36: FutureWarning: Conversion of the second argument of issubdtype from `float` to `np.floating` is deprecated. In future, it will be treated as `np.float64 == np.dtype(float).type`.\n",
      "  from ._conv import register_converters as _register_converters\n",
      "Using TensorFlow backend.\n",
      "WARNING:tensorflow:From /opt/conda/envs/tfjs/lib/python2.7/site-packages/tensorflow/contrib/learn/python/learn/datasets/base.py:198: retry (from tensorflow.contrib.learn.python.learn.datasets.base) is deprecated and will be removed in a future version.\n",
      "Instructions for updating:\n",
      "Use the retry module or similar alternatives.\n",
      "2018-05-24 10:31:03.385878: I tensorflow/core/platform/cpu_feature_guard.cc:140] Your CPU supports instructions that this TensorFlow binary was not compiled to use: SSE4.1 SSE4.2 AVX AVX2 FMA\n",
      "2018-05-24 10:31:03.521037: I tensorflow/stream_executor/cuda/cuda_gpu_executor.cc:898] successful NUMA node read from SysFS had negative value (-1), but there must be at least one NUMA node, so returning NUMA node zero\n",
      "2018-05-24 10:31:03.521350: I tensorflow/core/common_runtime/gpu/gpu_device.cc:1344] Found device 0 with properties: \n",
      "name: GeForce GTX 1080 Ti major: 6 minor: 1 memoryClockRate(GHz): 1.645\n",
      "pciBusID: 0000:01:00.0\n",
      "totalMemory: 10.91GiB freeMemory: 6.74GiB\n",
      "2018-05-24 10:31:03.521375: I tensorflow/core/common_runtime/gpu/gpu_device.cc:1423] Adding visible gpu devices: 0\n",
      "2018-05-24 10:31:03.867394: I tensorflow/core/common_runtime/gpu/gpu_device.cc:911] Device interconnect StreamExecutor with strength 1 edge matrix:\n",
      "2018-05-24 10:31:03.867419: I tensorflow/core/common_runtime/gpu/gpu_device.cc:917]      0 \n",
      "2018-05-24 10:31:03.867425: I tensorflow/core/common_runtime/gpu/gpu_device.cc:930] 0:   N \n",
      "2018-05-24 10:31:03.867599: I tensorflow/core/common_runtime/gpu/gpu_device.cc:1041] Created TensorFlow device (/job:localhost/replica:0/task:0/device:GPU:0 with 6508 MB memory) -> physical GPU (device: 0, name: GeForce GTX 1080 Ti, pci bus id: 0000:01:00.0, compute capability: 6.1)\n",
      "2018-05-24 10:31:04.899895: I tensorflow/core/grappler/optimizers/meta_optimizer.cc:221] Return status of optimizer model_pruner: OK. Graph size before: 244 nodes, 259 edges. Graph size after: 194 nodes, 209 edges.\n",
      "2018-05-24 10:31:04.899973: I tensorflow/core/grappler/optimizers/meta_optimizer.cc:221] Return status of optimizer constant folding: OK. Graph size before: 194 nodes, 209 edges. Graph size after: 194 nodes, 209 edges.\n",
      "2018-05-24 10:31:04.899987: I tensorflow/core/grappler/optimizers/meta_optimizer.cc:221] Return status of optimizer arithmetic_optimizer: OK. Graph size before: 194 nodes, 209 edges. Graph size after: 190 nodes, 209 edges.\n",
      "2018-05-24 10:31:04.899998: I tensorflow/core/grappler/optimizers/meta_optimizer.cc:221] Return status of optimizer dependency_optimizer: OK. Graph size before: 190 nodes, 209 edges. Graph size after: 190 nodes, 209 edges.\n",
      "2018-05-24 10:31:04.900030: I tensorflow/core/grappler/optimizers/meta_optimizer.cc:221] Return status of optimizer model_pruner: OK. Graph size before: 190 nodes, 209 edges. Graph size after: 190 nodes, 209 edges.\n",
      "2018-05-24 10:31:04.900046: I tensorflow/core/grappler/optimizers/meta_optimizer.cc:221] Return status of optimizer constant folding: OK. Graph size before: 190 nodes, 209 edges. Graph size after: 190 nodes, 209 edges.\n",
      "2018-05-24 10:31:04.900060: I tensorflow/core/grappler/optimizers/meta_optimizer.cc:221] Return status of optimizer arithmetic_optimizer: OK. Graph size before: 190 nodes, 209 edges. Graph size after: 190 nodes, 209 edges.\n",
      "2018-05-24 10:31:04.900076: I tensorflow/core/grappler/optimizers/meta_optimizer.cc:221] Return status of optimizer dependency_optimizer: OK. Graph size before: 190 nodes, 209 edges. Graph size after: 190 nodes, 209 edges.\n",
      "2018-05-24 10:31:04.903223: I tensorflow/core/common_runtime/gpu/gpu_device.cc:1423] Adding visible gpu devices: 0\n",
      "2018-05-24 10:31:04.903288: I tensorflow/core/common_runtime/gpu/gpu_device.cc:911] Device interconnect StreamExecutor with strength 1 edge matrix:\n",
      "2018-05-24 10:31:04.903295: I tensorflow/core/common_runtime/gpu/gpu_device.cc:917]      0 \n",
      "2018-05-24 10:31:04.903299: I tensorflow/core/common_runtime/gpu/gpu_device.cc:930] 0:   N \n",
      "2018-05-24 10:31:04.903395: I tensorflow/core/common_runtime/gpu/gpu_device.cc:1041] Created TensorFlow device (/job:localhost/replica:0/task:0/device:GPU:0 with 6508 MB memory) -> physical GPU (device: 0, name: GeForce GTX 1080 Ti, pci bus id: 0000:01:00.0, compute capability: 6.1)\n"
     ]
    }
   ],
   "source": [
    "%%bash\n",
    "export PATH=$CONDA_PREFIX/bin:$PATH\n",
    "mkdir -p web\n",
    "tensorflowjs_converter \\\n",
    "    --input_format=tf_saved_model \\\n",
    "    --output_node_names='pnet/conv4-2/BiasAdd,pnet/prob1,rnet/conv5-2/conv5-2,rnet/prob1,onet/conv6-2/conv6-2,onet/conv6-3/conv6-3,onet/prob1' \\\n",
    "    --saved_model_tags=serve \\\n",
    "    ./saved_model \\\n",
    "    ./web/web_model"
   ]
  },
  {
   "cell_type": "code",
   "execution_count": 27,
   "metadata": {},
   "outputs": [
    {
     "name": "stdout",
     "output_type": "stream",
     "text": [
      "web_model:\n",
      "total 1960\n",
      "-rw-rw-r-- 1 rhee rhee 1983424  5월 24 10:31 group1-shard1of1\n",
      "-rw-rw-r-- 1 rhee rhee   15236  5월 24 10:31 tensorflowjs_model.pb\n",
      "-rw-rw-r-- 1 rhee rhee    3825  5월 24 10:31 weights_manifest.json\n"
     ]
    }
   ],
   "source": [
    "!ls -lR web_model"
   ]
  },
  {
   "cell_type": "code",
   "execution_count": null,
   "metadata": {},
   "outputs": [],
   "source": []
  },
  {
   "cell_type": "code",
   "execution_count": null,
   "metadata": {},
   "outputs": [],
   "source": []
  },
  {
   "cell_type": "code",
   "execution_count": null,
   "metadata": {},
   "outputs": [],
   "source": [
    "assert 0"
   ]
  },
  {
   "cell_type": "code",
   "execution_count": null,
   "metadata": {},
   "outputs": [],
   "source": []
  },
  {
   "cell_type": "code",
   "execution_count": null,
   "metadata": {},
   "outputs": [],
   "source": []
  },
  {
   "cell_type": "code",
   "execution_count": null,
   "metadata": {},
   "outputs": [
    {
     "name": "stdout",
     "output_type": "stream",
     "text": [
      "/opt/conda/envs/tfjs/lib/python2.7/site-packages/h5py/__init__.py:36: FutureWarning: Conversion of the second argument of issubdtype from `float` to `np.floating` is deprecated. In future, it will be treated as `np.float64 == np.dtype(float).type`.\n",
      "  from ._conv import register_converters as _register_converters\n",
      "2018-05-24 10:31:57.631646: I tensorflow/core/platform/cpu_feature_guard.cc:140] Your CPU supports instructions that this TensorFlow binary was not compiled to use: SSE4.1 SSE4.2 AVX AVX2 FMA\n",
      "2018-05-24 10:31:57.748339: I tensorflow/stream_executor/cuda/cuda_gpu_executor.cc:898] successful NUMA node read from SysFS had negative value (-1), but there must be at least one NUMA node, so returning NUMA node zero\n",
      "2018-05-24 10:31:57.748635: I tensorflow/core/common_runtime/gpu/gpu_device.cc:1344] Found device 0 with properties: \n",
      "name: GeForce GTX 1080 Ti major: 6 minor: 1 memoryClockRate(GHz): 1.645\n",
      "pciBusID: 0000:01:00.0\n",
      "totalMemory: 10.91GiB freeMemory: 6.74GiB\n",
      "2018-05-24 10:31:57.748648: I tensorflow/core/common_runtime/gpu/gpu_device.cc:1423] Adding visible gpu devices: 0\n",
      "2018-05-24 10:31:58.008098: I tensorflow/core/common_runtime/gpu/gpu_device.cc:911] Device interconnect StreamExecutor with strength 1 edge matrix:\n",
      "2018-05-24 10:31:58.008132: I tensorflow/core/common_runtime/gpu/gpu_device.cc:917]      0 \n",
      "2018-05-24 10:31:58.008138: I tensorflow/core/common_runtime/gpu/gpu_device.cc:930] 0:   N \n",
      "\u001b[33mW0524 10:31:58.109049 Reloader plugin_event_accumulator.py:300] Found more than one graph event per run, or there was a metagraph containing a graph_def, as well as one or more graph events.  Overwriting the graph with the newest event.\n",
      "\u001b[0m\u001b[33mW0524 10:31:58.132526 Reloader plugin_event_accumulator.py:300] Found more than one graph event per run, or there was a metagraph containing a graph_def, as well as one or more graph events.  Overwriting the graph with the newest event.\n",
      "\u001b[0mTensorBoard 1.7.0 at http://rhee:6006 (Press CTRL+C to quit)\n"
     ]
    }
   ],
   "source": [
    "!tensorboard --logdir save --port 6006"
   ]
  }
 ],
 "metadata": {
  "kernelspec": {
   "display_name": "Environment (conda_tfjs)",
   "language": "python",
   "name": "conda_tfjs"
  },
  "language_info": {
   "codemirror_mode": {
    "name": "ipython",
    "version": 2
   },
   "file_extension": ".py",
   "mimetype": "text/x-python",
   "name": "python",
   "nbconvert_exporter": "python",
   "pygments_lexer": "ipython2",
   "version": "2.7.15"
  }
 },
 "nbformat": 4,
 "nbformat_minor": 2
}
